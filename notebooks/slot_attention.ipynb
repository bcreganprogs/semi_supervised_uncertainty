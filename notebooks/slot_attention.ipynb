{
 "cells": [
  {
   "cell_type": "code",
   "execution_count": 1,
   "metadata": {},
   "outputs": [],
   "source": [
    "from functools import partial\n",
    "\n",
    "import torch\n",
    "from torch import nn\n",
    "import torch.nn.functional as F\n",
    "from torch.nn import init\n",
    "import numpy as np"
   ]
  },
  {
   "cell_type": "code",
   "execution_count": 67,
   "metadata": {},
   "outputs": [],
   "source": [
    "class FixedSlotAttentionMultiHeadProb(torch.nn.Module):\n",
    "    \"\"\"Implementation of Probabalistic Slot Attention from Identifiable Object-Centric Representation Learning\n",
    "    via Probabilistic Slot Attention by Kori et al. 2024.\"\"\"\n",
    "    def __init__(self, num_slots: int, slot_dim: int, input_dim: int, num_iterations: int, num_heads: int = 4, hidden_dim: int = 256, temperature: float = 1, probabalistic: bool = False):\n",
    "        super(FixedSlotAttentionMultiHeadProb, self).__init__()\n",
    "        self.num_slots = num_slots\n",
    "        self.num_iterations = num_iterations\n",
    "        self.slot_dim = slot_dim\n",
    "        self.input_dim = input_dim\n",
    "        self.num_heads = num_heads\n",
    "        self.scale = (slot_dim // num_heads) ** -0.5\n",
    "        self.temperature = temperature\n",
    "        self.probabalistic = probabalistic\n",
    "        self.eps = 1e-5\n",
    "\n",
    "        self.slots_mu = nn.Parameter(torch.zeros(1, self.num_slots, slot_dim))\n",
    "        init.xavier_uniform_(self.slots_mu)\n",
    "        self.mu_scale = nn.Parameter(torch.zeros(1, self.num_slots, slot_dim))\n",
    "        init.xavier_uniform_(self.mu_scale)\n",
    "        self.slots_logsigma = nn.Parameter(torch.ones(1, self.num_heads, 1, slot_dim // num_heads))\n",
    "        # init.xavier_uniform_(self.slots_logsigma)\n",
    "\n",
    "        # learnable weights\n",
    "        self.mixing_coeffs = nn.Parameter(1/self.num_slots * torch.ones(1, self.num_slots), requires_grad=False)  # shape (1, K)\n",
    "        self.to_keys = nn.Parameter(torch.rand(self.input_dim, self.slot_dim))      # from inputs\n",
    "        self.to_queries = nn.Parameter(torch.rand(self.num_slots, self.slot_dim, self.slot_dim))   # from slots\n",
    "        self.to_values = nn.Parameter(torch.rand(self.input_dim, self.slot_dim))    # from inputs\n",
    "\n",
    "        self.gru = nn.GRUCell(slot_dim, slot_dim)\n",
    "\n",
    "        hidden_dim = max(slot_dim, hidden_dim)\n",
    "\n",
    "        self.mlp = nn.Sequential(\n",
    "            nn.Linear(slot_dim, hidden_dim),\n",
    "            nn.ReLU(),\n",
    "            nn.Linear(hidden_dim, slot_dim)\n",
    "        )\n",
    "\n",
    "        self.layer_norm_inputs = nn.LayerNorm(input_dim)\n",
    "        self.layer_norm_slots = nn.LayerNorm(slot_dim)\n",
    "        self.layer_norm_pre_ff = nn.LayerNorm(slot_dim)\n",
    "\n",
    "    def gaussian_log_prob(self, x: torch.Tensor, loc: torch.Tensor, var: torch.Tensor):\n",
    "        var = var.clamp(min=1e-5)  # for stability\n",
    "        return (\n",
    "            # -0.5 * np.log(2 * np.pi)\n",
    "            -0.5 * torch.log(var)\n",
    "            - 0.5 * (x - loc) ** 2 / var\n",
    "        )\n",
    "    \n",
    "    def forward(self, embeddings: torch.Tensor):\n",
    "        \"\"\"Slot Attention \"\"\"\n",
    "        B, N, D = embeddings.shape\n",
    "        # 1) initialise the slots \n",
    "        # if self.training:\n",
    "        #     sigma = self.train_sigma.exp().expand(B, self.num_slots, -1)\n",
    "        #     slots = self.train_mu + self.train_sigma.exp() * torch.randn(\n",
    "        #         B, self.num_slots, self.slot_dim, device=embeddings.device\n",
    "        #     )\n",
    "        # else:\n",
    "        mu = self.slots_mu.repeat(B, 1, 1)\n",
    "        slots = mu + self.mu_scale.exp() * torch.randn(mu.shape, device=embeddings.device)\n",
    "\n",
    "        sigma = self.slots_logsigma.repeat(B, 1, self.num_slots, 1)\n",
    "\n",
    "        mixing_coeffs = self.mixing_coeffs.expand(B, -1).unsqueeze(2)  # shape (B, K, 1)\n",
    "        \n",
    "        embeddings = self.layer_norm_inputs(embeddings)\n",
    "        keys = torch.einsum(\"bne,ed->bnd\", embeddings, self.to_keys).view(B, N, self.num_heads, self.slot_dim // self.num_heads) # shape (B, N, H, D/H)\n",
    "        values = torch.einsum(\"bne,ed->bnd\", embeddings, self.to_values).view(B, N, self.num_heads, self.slot_dim // self.num_heads) # shape (B, K, N, H, D/H)\n",
    "        \n",
    "        for _ in range(self.num_iterations):\n",
    "            slots_prev = slots\n",
    "            slots = self.layer_norm_slots(slots) # shape (B, K, D)\n",
    "            \n",
    "            \n",
    "            # attention = mixture coefficients * likelihood of gaussian / sum of mixture coefficients * likelihood of gaussian\n",
    "            # Bishop Pattern Recognition and Machine Learning page 78\n",
    "            # find likelihood of keys under normal given by queries and sigma\n",
    "            queries = torch.einsum('bkd,kdd->bkd', slots, self.to_queries).view(B, self.num_slots, self.num_heads, self.slot_dim // self.num_heads).unsqueeze(2)  # shape (B, K, H, 1, D/H)\n",
    "            sigma = sigma.view(B, self.num_slots, self.num_heads, self.slot_dim // self.num_heads).unsqueeze(2) # shape (B, K, H, 1, D/H)\n",
    "\n",
    "    \t    # sigma shape B, K, D, query shape B, K, H, D/H, keys shape B, K, N, H, D/H\n",
    "            exponent = -0.5 * (keys.unsqueeze(1) - queries)**2 / (sigma**2)     # shape (B, K, N)\n",
    "            log_pi = -0.5 * D * torch.log(torch.tensor(2*torch.pi))                                     # shape (1)\n",
    "            log_scale = - torch.log(torch.clamp(sigma, min=self.eps))#.unsqueeze(2)                      # shape (B, K, 1, D)\n",
    "       \n",
    "            gaussian_log_likelihood = torch.log(mixing_coeffs).unsqueeze(-1) + (log_pi + log_scale + exponent).sum(dim=-1) * self.scale  # shape (B, K, N)\n",
    "            print(gaussian_log_likelihood.shape)\n",
    "            attn = F.softmax(gaussian_log_likelihood, dim=1)                                 # shape (B, K, N, H)\n",
    "            print(attn.shape)\n",
    "            attn_vis = attn.sum(-1)\n",
    "\n",
    "            Nk = attn.sum(dim=2, keepdim=True)  # shape (B, K, 1, H)\n",
    "            Nk = Nk.permute(0, 1, 3, 2)  # shape (B, K, H, 1)\n",
    "  \n",
    "            slot_updates = torch.einsum('bknh,bnhu->bkhu', attn, values)   # shape (B, K, H, D/H)\n",
    "            slot_updates = (1 / Nk) * slot_updates  # shape (B, K, H, D/H)     \n",
    "\n",
    "            sigma = torch.sum(attn.unsqueeze(-1) * (values.unsqueeze(1) - slot_updates.unsqueeze(2))**2, dim=2) # shape (B, K, H, D/H)\n",
    "            sigma = (1 / Nk) * sigma  # shape (B, K, D)\n",
    "            sigma = torch.sqrt(sigma)  # shape (B, K, D)\n",
    "            \n",
    "            mixing_coeffs = Nk.sum(-2) / N  # update mixing coefficients\n",
    "            \n",
    "            # 5) GRU to update slots\n",
    "            #slot_updates = slot_updates.view(B, self.num_slots, self.slot_dim)\n",
    "            print(slot_updates.shape, slots_prev.shape)\n",
    "            print(slot_updates.view(-1, self.slot_dim).shape, slots_prev.view(-1, self.slot_dim).shape)\n",
    "            slots = self.gru(slot_updates.view(-1, self.slot_dim), slots_prev.view(-1, self.slot_dim))\n",
    "\n",
    "            slots = slots.reshape(B, self.num_slots, self.slot_dim)\n",
    "            slots = slots + self.mlp(self.layer_norm_pre_ff(slots)) # shape (B, K, D)\n",
    "            \n",
    "        sigma = sigma.view(B, self.num_slots, self.slot_dim)\n",
    "        # sample from slotwise distributions\n",
    "        slots = slots + sigma * torch.randn_like(slots)\n",
    "        \n",
    "        return slots, attn_vis"
   ]
  },
  {
   "cell_type": "code",
   "execution_count": 69,
   "metadata": {},
   "outputs": [
    {
     "name": "stdout",
     "output_type": "stream",
     "text": [
      "torch.Size([64, 4, 1, 4, 64])\n",
      "torch.Size([64, 4, 1, 4, 64])\n",
      "torch.Size([64, 196, 4, 64])\n",
      "torch.Size([64, 4, 196, 4])\n",
      "torch.Size([64, 4, 196, 4])\n",
      "torch.Size([64, 4, 4, 64]) torch.Size([64, 4, 256])\n",
      "torch.Size([256, 256]) torch.Size([256, 256])\n",
      "torch.Size([64, 4, 1, 4, 64])\n",
      "torch.Size([64, 4, 1, 4, 64])\n",
      "torch.Size([64, 196, 4, 64])\n",
      "torch.Size([64, 4, 196, 4])\n",
      "torch.Size([64, 4, 196, 4])\n",
      "torch.Size([64, 4, 4, 64]) torch.Size([64, 4, 256])\n",
      "torch.Size([256, 256]) torch.Size([256, 256])\n",
      "torch.Size([64, 4, 1, 4, 64])\n",
      "torch.Size([64, 4, 1, 4, 64])\n",
      "torch.Size([64, 196, 4, 64])\n",
      "torch.Size([64, 4, 196, 4])\n",
      "torch.Size([64, 4, 196, 4])\n",
      "torch.Size([64, 4, 4, 64]) torch.Size([64, 4, 256])\n",
      "torch.Size([256, 256]) torch.Size([256, 256])\n"
     ]
    }
   ],
   "source": [
    "sample_embeddings = torch.randn((64, 196, 1024))   # B, N, D\n",
    "slot_attention = FixedSlotAttentionMultiHeadProb(num_slots=4, num_heads=4, slot_dim=256, input_dim=1024, num_iterations=3, probabalistic=True)\n",
    "slots, attn = slot_attention(sample_embeddings)"
   ]
  },
  {
   "cell_type": "code",
   "execution_count": 17,
   "metadata": {},
   "outputs": [
    {
     "name": "stdout",
     "output_type": "stream",
     "text": [
      "tensor([[[ -1.9865,  -4.7517,   3.8700,  ...,   2.3450,  22.3162, -13.8800],\n",
      "         [ -8.8693,  15.2051,  -5.2328,  ...,   8.4942,   5.8185,   1.0653],\n",
      "         [  4.1657,  -1.4027,   9.9303,  ...,   2.5509,   2.5038,   5.0809],\n",
      "         [  0.3832, -10.6470,  -9.3103,  ...,  12.9620,  -6.7498,  21.4182]],\n",
      "\n",
      "        [[ -2.7615,   5.2972,   0.9950,  ...,   5.3752,   8.6468, -14.0466],\n",
      "         [ -2.9695,   8.2313,  -2.1252,  ...,  -0.8059,  27.5942, -20.4276],\n",
      "         [  7.0061,  -2.9013,   8.5858,  ...,  -2.4287,  -6.3599,  -1.9806],\n",
      "         [  6.8349, -15.0775,   0.4107,  ...,   7.4028, -16.4034,   0.2614]]],\n",
      "       grad_fn=<AddBackward0>) torch.Size([2, 4, 196])\n"
     ]
    }
   ],
   "source": [
    "print(slots.shape, attn.shape)"
   ]
  },
  {
   "cell_type": "code",
   "execution_count": 18,
   "metadata": {},
   "outputs": [
    {
     "name": "stdout",
     "output_type": "stream",
     "text": [
      "tensor(False)\n"
     ]
    }
   ],
   "source": [
    "print(torch.isnan(slots).any())"
   ]
  },
  {
   "cell_type": "code",
   "execution_count": 7,
   "metadata": {},
   "outputs": [
    {
     "data": {
      "image/png": "[encoded data removed]",
      "text/plain": [
       "<Figure size 1500x1500 with 3 Axes>"
      ]
     },
     "metadata": {},
     "output_type": "display_data"
    }
   ],
   "source": [
    "# plot attention matrix\n",
    "import matplotlib.pyplot as plt\n",
    "import matplotlib\n",
    "image_num = 0 \n",
    "# slot 0\n",
    "attn = attn[image_num, :, :].detach().cpu()\n",
    "slot_0_attn = attn[0, :]\n",
    "slot_0_attn = slot_0_attn.reshape(14, 14)\n",
    "\n",
    "f, ax = plt.subplots(1, attn.shape[0], figsize=(15, 15))\n",
    "\n",
    "for slot in range(attn.shape[0]):\n",
    "    slot_attn = attn[slot, :]\n",
    "    slot_attn = slot_attn.reshape(14, 14)\n",
    "    ax[slot].imshow(slot_attn, cmap=matplotlib.cm.gray)\n",
    "    ax[slot].axis('off')\n",
    "    ax[slot].set_title(f'slot {slot}')"
   ]
  },
  {
   "cell_type": "code",
   "execution_count": 9,
   "metadata": {},
   "outputs": [],
   "source": [
    "saved_model = ViTAE.load_from_checkpoint('/vol/bitbucket/bc1623/project/semi_supervised_uncertainty/lightning_logs/chestxray_mae/chestxray_mae/11h1j4vq/checkpoints/epoch=0-step=377.ckpt',\n",
    "    model_kwargs={\n",
    "        'img_size': 224,\n",
    "        'embed_dim': 1024,\n",
    "        'num_channels': 1,\n",
    "        'num_heads': 16,\n",
    "        'depth': 18,\n",
    "        'decoder_embed_dim': 512,\n",
    "        'decoder_depth': 8,\n",
    "        'decoder_num_heads': 16,\n",
    "        'norm_layer': partial(nn.LayerNorm, eps=1e-6),\n",
    "        'mlp_ratio': 4.0,\n",
    "        'patch_size': 16,\n",
    "        'norm_pix_loss': False,\n",
    "        'mask_ratio': 0.0,\n",
    "        'dropout': 0.00,\n",
    "    },\n",
    "    learning_rate=1e-4,\n",
    "    map_location=torch.device('cuda:0'),\n",
    "    )"
   ]
  },
  {
   "cell_type": "code",
   "execution_count": 10,
   "metadata": {},
   "outputs": [
    {
     "name": "stdout",
     "output_type": "stream",
     "text": [
      "True\n"
     ]
    },
    {
     "name": "stderr",
     "output_type": "stream",
     "text": [
      "Loading Data: 100%|██████████| 187/187 [00:00<00:00, 26530.07it/s]\n",
      "Loading Data: 100%|██████████| 10/10 [00:00<00:00, 16513.01it/s]\n",
      "Loading Data: 100%|██████████| 50/50 [00:00<00:00, 24408.19it/s]\n"
     ]
    }
   ],
   "source": [
    "data = JSRTDataModule(data_dir='./data/JSRT/', batch_size=32)"
   ]
  },
  {
   "cell_type": "code",
   "execution_count": 11,
   "metadata": {},
   "outputs": [],
   "source": [
    "batch = next(iter(data.test_dataloader()))\n",
    "saved_model.eval()\n",
    "for param in saved_model.model.parameters():    # freeze all parameters\n",
    "    param.requires_grad = False\n",
    "saved_model.mask_ratio = 0.0        # do not mask patches\n",
    "with torch.no_grad():\n",
    "    encoded_embeddings, mask, mask_indices, num_masked_tokens = saved_model.model.encoder(batch['image'].to('cuda:0'))"
   ]
  },
  {
   "cell_type": "code",
   "execution_count": 16,
   "metadata": {},
   "outputs": [],
   "source": [
    "slot_attention = FixedSlotAttention(num_slots=4, dim=1024, num_iterations=3).to('cuda:0')\n",
    "slots, attn = slot_attention(encoded_embeddings[:, :196, :])"
   ]
  },
  {
   "cell_type": "code",
   "execution_count": 17,
   "metadata": {},
   "outputs": [
    {
     "data": {
      "image/png": "[encoded data removed]",
      "text/plain": [
       "<Figure size 1500x1500 with 4 Axes>"
      ]
     },
     "metadata": {},
     "output_type": "display_data"
    }
   ],
   "source": [
    "image_num = 0 \n",
    "# slot 0\n",
    "attn = attn[image_num, :, :].detach().cpu()\n",
    "slot_0_attn = attn[0, :]\n",
    "slot_0_attn = slot_0_attn.reshape(14, 14)\n",
    "\n",
    "f, ax = plt.subplots(1, attn.shape[0], figsize=(15, 15))\n",
    "\n",
    "for slot in range(attn.shape[0]):\n",
    "    slot_attn = attn[slot, :]\n",
    "    slot_attn = slot_attn.reshape(14, 14)\n",
    "    ax[slot].imshow(slot_attn, cmap=matplotlib.cm.gray)\n",
    "    ax[slot].axis('off')\n",
    "    ax[slot].set_title(f'slot {slot}')"
   ]
  },
  {
   "cell_type": "code",
   "execution_count": null,
   "metadata": {},
   "outputs": [],
   "source": []
  }
 ],
 "metadata": {
  "kernelspec": {
   "display_name": "uncertainty_env",
   "language": "python",
   "name": "python3"
  },
  "language_info": {
   "codemirror_mode": {
    "name": "ipython",
    "version": 3
   },
   "file_extension": ".py",
   "mimetype": "text/x-python",
   "name": "python",
   "nbconvert_exporter": "python",
   "pygments_lexer": "ipython3",
   "version": "3.10.12"
  }
 },
 "nbformat": 4,
 "nbformat_minor": 2
}
