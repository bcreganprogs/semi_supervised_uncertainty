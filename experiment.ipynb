{
 "cells": [
  {
   "cell_type": "code",
   "execution_count": 1,
   "metadata": {},
   "outputs": [],
   "source": [
    "from functools import partial\n",
    "\n",
    "import torch\n",
    "import torch.nn as nn\n",
    "import matplotlib.pyplot as plt\n",
    "import matplotlib\n",
    "from pytorch_lightning import Trainer, seed_everything\n",
    "from pytorch_lightning.callbacks import ModelCheckpoint, TQDMProgressBar\n",
    "\n",
    "from models.data import JSRTDataModule, CheXpertDataModule, CLEVRNDataset\n",
    "from models.mae.mae import ViTAE\n",
    "from models.encoders import CNNEncoder\n",
    "from models.segmentation import ObjectSpecificSegmentation\n",
    "\n",
    "from pytorch_lightning.loggers import WandbLogger\n",
    "from pathlib import Path"
   ]
  },
  {
   "cell_type": "code",
   "execution_count": 2,
   "metadata": {},
   "outputs": [],
   "source": [
    "saved_model = ViTAE.load_from_checkpoint('/vol/bitbucket/bc1623/project/semi_supervised_uncertainty/bash_scripts/lightning_logs/chestxray_mae/chestxray_mae/beznyxtr/checkpoints/epoch=495-step=93744.ckpt',\n",
    "    model_kwargs={\n",
    "        'img_size': 224,\n",
    "        'embed_dim': 768,\n",
    "        'in_chans': 1,\n",
    "        'num_heads': 12,\n",
    "        'depth': 12,\n",
    "        'decoder_embed_dim': 512,\n",
    "        'decoder_depth': 8,\n",
    "        'decoder_num_heads': 16,\n",
    "        'norm_layer': partial(nn.LayerNorm, eps=1e-6),\n",
    "        'mlp_ratio': 4.0,\n",
    "        'patch_size': 16,\n",
    "        'norm_pix_loss': False,\n",
    "    },\n",
    "    learning_rate=1e-4,\n",
    "    map_location=torch.device('cpu'),\n",
    "    )"
   ]
  },
  {
   "cell_type": "code",
   "execution_count": 3,
   "metadata": {},
   "outputs": [],
   "source": [
    "# saved_model = ViTAE(\n",
    "#     model_kwargs={\n",
    "#         'img_size': 224,\n",
    "#         'embed_dim': 768,\n",
    "#         'in_chans': 3,          # for clevr\n",
    "#         'num_heads': 12,\n",
    "#         'depth': 12,\n",
    "#         'decoder_embed_dim': 512,\n",
    "#         'decoder_depth': 8,\n",
    "#         'decoder_num_heads': 16,\n",
    "#         'norm_layer': partial(nn.LayerNorm, eps=1e-6),\n",
    "#         'mlp_ratio': 4.0,\n",
    "#         'patch_size': 16,\n",
    "#         'norm_pix_loss': False,\n",
    "#         'mask_ratio': 0.75,\n",
    "#     },\n",
    "#     learning_rate=1e-4,\n",
    "# )"
   ]
  },
  {
   "cell_type": "code",
   "execution_count": 4,
   "metadata": {},
   "outputs": [],
   "source": [
    "#saved_model.eval()\n",
    "# oss = ObjectSpecificSegmentation(saved_model, num_slots=4, num_iterations=3, num_classes=4, slot_dim=768, task='recon', decoder_type='shared', \n",
    "#                                  learning_rate=4e-4, freeze_encoder=True, temperature=1, log_images=True, lr_warmup=False, include_seg_loss=False,\n",
    "#                                  softmax_class=False, slot_attn_type='mulit-head', image_chans=1, image_resolution=224)\n",
    "\n",
    "oss = ObjectSpecificSegmentation.load_from_checkpoint('/vol/bitbucket/bc1623/project/semi_supervised_uncertainty/bash_scripts/runs/lightning_logs/obj_centric_chest_seg/obj_centric_chest_seg/nn1l36px/checkpoints/epoch=38-step=29067.ckpt',\n",
    "                                encoder=saved_model, num_slots=4, num_iterations=5, num_classes=4, slot_dim=768, task='recon', decoder_type='shared', \n",
    "                                 learning_rate=1e-5, freeze_encoder=True, temperature=1, log_images=True, lr_warmup=False, include_seg_loss=False,\n",
    "                                 softmax_class=False, slot_attn_type='mulit-head', image_chans=1)"
   ]
  },
  {
   "cell_type": "code",
   "execution_count": 5,
   "metadata": {},
   "outputs": [
    {
     "name": "stdout",
     "output_type": "stream",
     "text": [
      "True\n"
     ]
    },
    {
     "name": "stderr",
     "output_type": "stream",
     "text": [
      "Loading Data: 100%|██████████| 2/2 [00:00<00:00, 5540.69it/s]\n",
      "Loading Data: 100%|██████████| 22/22 [00:00<00:00, 11056.16it/s]\n",
      "Loading Data: 100%|██████████| 223/223 [00:00<00:00, 21629.12it/s]\n"
     ]
    }
   ],
   "source": [
    "#data = CLEVRNDataset(batch_size=32)\n",
    "data = JSRTDataModule(data_dir='./data/JSRT/', batch_size=64, augmentation=True)\n",
    "#data = CheXpertDataModule(data_dir='/vol/biodata/data/chest_xray/CheXpert-v1.0/preproc_224x224/', batch_size=128, cache=False)"
   ]
  },
  {
   "cell_type": "code",
   "execution_count": 6,
   "metadata": {},
   "outputs": [
    {
     "name": "stdout",
     "output_type": "stream",
     "text": [
      "2\n"
     ]
    }
   ],
   "source": [
    "# find train batch size\n",
    "batch = next(iter(data.train_dataloader()))\n",
    "print(len(batch['image']))"
   ]
  },
  {
   "cell_type": "code",
   "execution_count": 7,
   "metadata": {},
   "outputs": [],
   "source": [
    "oss.include_seg_loss = True\n",
    "# # freeze oss decoder\n",
    "oss.decoder.requires_grad_(False)\n",
    "oss.learning_rate = 1e-6"
   ]
  },
  {
   "cell_type": "code",
   "execution_count": 9,
   "metadata": {},
   "outputs": [
    {
     "name": "stderr",
     "output_type": "stream",
     "text": [
      "/vol/bitbucket/bc1623/project/uncertainty_env/lib/python3.10/site-packages/pytorch_lightning/loggers/wandb.py:396: There is a wandb run already in progress and newly created instances of `WandbLogger` will reuse this run. If this is not desired, call `wandb.finish()` before instantiating `WandbLogger`.\n",
      "Using 16bit Automatic Mixed Precision (AMP)\n"
     ]
    },
    {
     "name": "stdout",
     "output_type": "stream",
     "text": [
      "Saving to/vol/bitbucket/bc1623/project/semi_supervised_uncertainty/obj_centric_chest_seg/run_3uwk2l10\n"
     ]
    },
    {
     "name": "stderr",
     "output_type": "stream",
     "text": [
      "GPU available: True (cuda), used: True\n",
      "TPU available: False, using: 0 TPU cores\n",
      "IPU available: False, using: 0 IPUs\n",
      "HPU available: False, using: 0 HPUs\n",
      "/vol/bitbucket/bc1623/project/uncertainty_env/lib/python3.10/site-packages/pytorch_lightning/callbacks/model_checkpoint.py:653: Checkpoint directory ./runs/lightning_logs/obj_centric_chest_seg/obj_centric_chest_seg/3uwk2l10/checkpoints exists and is not empty.\n",
      "LOCAL_RANK: 0 - CUDA_VISIBLE_DEVICES: [0,1]\n",
      "\n",
      "  | Name                   | Type                        | Params\n",
      "-----------------------------------------------------------------------\n",
      "0 | encoder                | ViTAE                       | 111 M \n",
      "1 | encoder_pos_embeddings | SoftPositionEmbed           | 3.8 K \n",
      "2 | slot_attention         | FixedSlotAttentionMultiHead | 10.0 M\n",
      "3 | decoder                | SlotSpecificDecoder         | 5.1 M \n",
      "4 | decoder_pos_embeddings | SoftPositionEmbed           | 3.8 K \n",
      "5 | embedding_norm         | LayerNorm                   | 1.5 K \n",
      "6 | mlp                    | Sequential                  | 2.4 M \n",
      "-----------------------------------------------------------------------\n",
      "12.4 M    Trainable params\n",
      "116 M     Non-trainable params\n",
      "128 M     Total params\n",
      "515.136   Total estimated model params size (MB)\n"
     ]
    },
    {
     "data": {
      "application/vnd.jupyter.widget-view+json": {
       "model_id": "14449edbd480486e8581f2d24bb07cd0",
       "version_major": 2,
       "version_minor": 0
      },
      "text/plain": [
       "Sanity Checking: |          | 0/? [00:00<?, ?it/s]"
      ]
     },
     "metadata": {},
     "output_type": "display_data"
    },
    {
     "name": "stderr",
     "output_type": "stream",
     "text": [
      "WARNING:root:Images sizes do not match. This will causes images to be display incorrectly in the UI.\n"
     ]
    },
    {
     "data": {
      "application/vnd.jupyter.widget-view+json": {
       "model_id": "84769861dd7846bf9aa418106ba9a7e2",
       "version_major": 2,
       "version_minor": 0
      },
      "text/plain": [
       "Training: |          | 0/? [00:00<?, ?it/s]"
      ]
     },
     "metadata": {},
     "output_type": "display_data"
    },
    {
     "name": "stderr",
     "output_type": "stream",
     "text": [
      "WARNING:root:Images sizes do not match. This will causes images to be display incorrectly in the UI.\n",
      "WARNING:root:Images sizes do not match. This will causes images to be display incorrectly in the UI.\n",
      "WARNING:root:Images sizes do not match. This will causes images to be display incorrectly in the UI.\n",
      "WARNING:root:Images sizes do not match. This will causes images to be display incorrectly in the UI.\n",
      "WARNING:root:Images sizes do not match. This will causes images to be display incorrectly in the UI.\n",
      "WARNING:root:Images sizes do not match. This will causes images to be display incorrectly in the UI.\n",
      "WARNING:root:Images sizes do not match. This will causes images to be display incorrectly in the UI.\n",
      "WARNING:root:Images sizes do not match. This will causes images to be display incorrectly in the UI.\n",
      "WARNING:root:Images sizes do not match. This will causes images to be display incorrectly in the UI.\n",
      "WARNING:root:Images sizes do not match. This will causes images to be display incorrectly in the UI.\n",
      "WARNING:root:Images sizes do not match. This will causes images to be display incorrectly in the UI.\n",
      "WARNING:root:Images sizes do not match. This will causes images to be display incorrectly in the UI.\n",
      "WARNING:root:Images sizes do not match. This will causes images to be display incorrectly in the UI.\n",
      "WARNING:root:Images sizes do not match. This will causes images to be display incorrectly in the UI.\n",
      "WARNING:root:Images sizes do not match. This will causes images to be display incorrectly in the UI.\n",
      "WARNING:root:Images sizes do not match. This will causes images to be display incorrectly in the UI.\n",
      "WARNING:root:Images sizes do not match. This will causes images to be display incorrectly in the UI.\n",
      "WARNING:root:Images sizes do not match. This will causes images to be display incorrectly in the UI.\n",
      "WARNING:root:Images sizes do not match. This will causes images to be display incorrectly in the UI.\n"
     ]
    },
    {
     "data": {
      "application/vnd.jupyter.widget-view+json": {
       "model_id": "fb6bc4bab6bf4cc2ac7897dbdf0653eb",
       "version_major": 2,
       "version_minor": 0
      },
      "text/plain": [
       "Validation: |          | 0/? [00:00<?, ?it/s]"
      ]
     },
     "metadata": {},
     "output_type": "display_data"
    },
    {
     "name": "stderr",
     "output_type": "stream",
     "text": [
      "WARNING:root:Images sizes do not match. This will causes images to be display incorrectly in the UI.\n",
      "WARNING:root:Images sizes do not match. This will causes images to be display incorrectly in the UI.\n",
      "WARNING:root:Images sizes do not match. This will causes images to be display incorrectly in the UI.\n",
      "WARNING:root:Images sizes do not match. This will causes images to be display incorrectly in the UI.\n",
      "WARNING:root:Images sizes do not match. This will causes images to be display incorrectly in the UI.\n",
      "WARNING:root:Images sizes do not match. This will causes images to be display incorrectly in the UI.\n",
      "WARNING:root:Images sizes do not match. This will causes images to be display incorrectly in the UI.\n",
      "WARNING:root:Images sizes do not match. This will causes images to be display incorrectly in the UI.\n",
      "WARNING:root:Images sizes do not match. This will causes images to be display incorrectly in the UI.\n",
      "WARNING:root:Images sizes do not match. This will causes images to be display incorrectly in the UI.\n",
      "WARNING:root:Images sizes do not match. This will causes images to be display incorrectly in the UI.\n",
      "WARNING:root:Images sizes do not match. This will causes images to be display incorrectly in the UI.\n",
      "WARNING:root:Images sizes do not match. This will causes images to be display incorrectly in the UI.\n",
      "WARNING:root:Images sizes do not match. This will causes images to be display incorrectly in the UI.\n",
      "WARNING:root:Images sizes do not match. This will causes images to be display incorrectly in the UI.\n",
      "WARNING:root:Images sizes do not match. This will causes images to be display incorrectly in the UI.\n",
      "WARNING:root:Images sizes do not match. This will causes images to be display incorrectly in the UI.\n",
      "WARNING:root:Images sizes do not match. This will causes images to be display incorrectly in the UI.\n",
      "WARNING:root:Images sizes do not match. This will causes images to be display incorrectly in the UI.\n",
      "WARNING:root:Images sizes do not match. This will causes images to be display incorrectly in the UI.\n",
      "WARNING:root:Images sizes do not match. This will causes images to be display incorrectly in the UI.\n"
     ]
    },
    {
     "data": {
      "application/vnd.jupyter.widget-view+json": {
       "model_id": "55db845998534b2c865abba8e4bb7cb3",
       "version_major": 2,
       "version_minor": 0
      },
      "text/plain": [
       "Validation: |          | 0/? [00:00<?, ?it/s]"
      ]
     },
     "metadata": {},
     "output_type": "display_data"
    },
    {
     "name": "stderr",
     "output_type": "stream",
     "text": [
      "WARNING:root:Images sizes do not match. This will causes images to be display incorrectly in the UI.\n",
      "WARNING:root:Images sizes do not match. This will causes images to be display incorrectly in the UI.\n",
      "WARNING:root:Images sizes do not match. This will causes images to be display incorrectly in the UI.\n",
      "WARNING:root:Images sizes do not match. This will causes images to be display incorrectly in the UI.\n",
      "WARNING:root:Images sizes do not match. This will causes images to be display incorrectly in the UI.\n",
      "WARNING:root:Images sizes do not match. This will causes images to be display incorrectly in the UI.\n",
      "WARNING:root:Images sizes do not match. This will causes images to be display incorrectly in the UI.\n",
      "WARNING:root:Images sizes do not match. This will causes images to be display incorrectly in the UI.\n",
      "WARNING:root:Images sizes do not match. This will causes images to be display incorrectly in the UI.\n",
      "WARNING:root:Images sizes do not match. This will causes images to be display incorrectly in the UI.\n",
      "WARNING:root:Images sizes do not match. This will causes images to be display incorrectly in the UI.\n",
      "WARNING:root:Images sizes do not match. This will causes images to be display incorrectly in the UI.\n",
      "WARNING:root:Images sizes do not match. This will causes images to be display incorrectly in the UI.\n",
      "WARNING:root:Images sizes do not match. This will causes images to be display incorrectly in the UI.\n",
      "WARNING:root:Images sizes do not match. This will causes images to be display incorrectly in the UI.\n",
      "WARNING:root:Images sizes do not match. This will causes images to be display incorrectly in the UI.\n",
      "WARNING:root:Images sizes do not match. This will causes images to be display incorrectly in the UI.\n",
      "WARNING:root:Images sizes do not match. This will causes images to be display incorrectly in the UI.\n",
      "WARNING:root:Images sizes do not match. This will causes images to be display incorrectly in the UI.\n",
      "WARNING:root:Images sizes do not match. This will causes images to be display incorrectly in the UI.\n",
      "WARNING:root:Images sizes do not match. This will causes images to be display incorrectly in the UI.\n"
     ]
    },
    {
     "data": {
      "application/vnd.jupyter.widget-view+json": {
       "model_id": "3e5b068a617b4f2da7cc5e6db7c219c2",
       "version_major": 2,
       "version_minor": 0
      },
      "text/plain": [
       "Validation: |          | 0/? [00:00<?, ?it/s]"
      ]
     },
     "metadata": {},
     "output_type": "display_data"
    },
    {
     "name": "stderr",
     "output_type": "stream",
     "text": [
      "WARNING:root:Images sizes do not match. This will causes images to be display incorrectly in the UI.\n",
      "WARNING:root:Images sizes do not match. This will causes images to be display incorrectly in the UI.\n",
      "WARNING:root:Images sizes do not match. This will causes images to be display incorrectly in the UI.\n",
      "WARNING:root:Images sizes do not match. This will causes images to be display incorrectly in the UI.\n",
      "WARNING:root:Images sizes do not match. This will causes images to be display incorrectly in the UI.\n",
      "WARNING:root:Images sizes do not match. This will causes images to be display incorrectly in the UI.\n",
      "WARNING:root:Images sizes do not match. This will causes images to be display incorrectly in the UI.\n",
      "WARNING:root:Images sizes do not match. This will causes images to be display incorrectly in the UI.\n",
      "WARNING:root:Images sizes do not match. This will causes images to be display incorrectly in the UI.\n",
      "WARNING:root:Images sizes do not match. This will causes images to be display incorrectly in the UI.\n",
      "WARNING:root:Images sizes do not match. This will causes images to be display incorrectly in the UI.\n",
      "WARNING:root:Images sizes do not match. This will causes images to be display incorrectly in the UI.\n",
      "WARNING:root:Images sizes do not match. This will causes images to be display incorrectly in the UI.\n",
      "WARNING:root:Images sizes do not match. This will causes images to be display incorrectly in the UI.\n",
      "WARNING:root:Images sizes do not match. This will causes images to be display incorrectly in the UI.\n",
      "WARNING:root:Images sizes do not match. This will causes images to be display incorrectly in the UI.\n",
      "WARNING:root:Images sizes do not match. This will causes images to be display incorrectly in the UI.\n",
      "WARNING:root:Images sizes do not match. This will causes images to be display incorrectly in the UI.\n",
      "WARNING:root:Images sizes do not match. This will causes images to be display incorrectly in the UI.\n",
      "WARNING:root:Images sizes do not match. This will causes images to be display incorrectly in the UI.\n",
      "WARNING:root:Images sizes do not match. This will causes images to be display incorrectly in the UI.\n"
     ]
    },
    {
     "data": {
      "application/vnd.jupyter.widget-view+json": {
       "model_id": "ea7825285d894f42aa1b83ecf741f0e0",
       "version_major": 2,
       "version_minor": 0
      },
      "text/plain": [
       "Validation: |          | 0/? [00:00<?, ?it/s]"
      ]
     },
     "metadata": {},
     "output_type": "display_data"
    },
    {
     "name": "stderr",
     "output_type": "stream",
     "text": [
      "WARNING:root:Images sizes do not match. This will causes images to be display incorrectly in the UI.\n",
      "WARNING:root:Images sizes do not match. This will causes images to be display incorrectly in the UI.\n",
      "WARNING:root:Images sizes do not match. This will causes images to be display incorrectly in the UI.\n",
      "WARNING:root:Images sizes do not match. This will causes images to be display incorrectly in the UI.\n",
      "WARNING:root:Images sizes do not match. This will causes images to be display incorrectly in the UI.\n",
      "WARNING:root:Images sizes do not match. This will causes images to be display incorrectly in the UI.\n",
      "WARNING:root:Images sizes do not match. This will causes images to be display incorrectly in the UI.\n",
      "WARNING:root:Images sizes do not match. This will causes images to be display incorrectly in the UI.\n",
      "WARNING:root:Images sizes do not match. This will causes images to be display incorrectly in the UI.\n",
      "WARNING:root:Images sizes do not match. This will causes images to be display incorrectly in the UI.\n",
      "WARNING:root:Images sizes do not match. This will causes images to be display incorrectly in the UI.\n",
      "WARNING:root:Images sizes do not match. This will causes images to be display incorrectly in the UI.\n",
      "WARNING:root:Images sizes do not match. This will causes images to be display incorrectly in the UI.\n",
      "WARNING:root:Images sizes do not match. This will causes images to be display incorrectly in the UI.\n",
      "WARNING:root:Images sizes do not match. This will causes images to be display incorrectly in the UI.\n",
      "WARNING:root:Images sizes do not match. This will causes images to be display incorrectly in the UI.\n",
      "WARNING:root:Images sizes do not match. This will causes images to be display incorrectly in the UI.\n",
      "WARNING:root:Images sizes do not match. This will causes images to be display incorrectly in the UI.\n",
      "WARNING:root:Images sizes do not match. This will causes images to be display incorrectly in the UI.\n",
      "WARNING:root:Images sizes do not match. This will causes images to be display incorrectly in the UI.\n",
      "WARNING:root:Images sizes do not match. This will causes images to be display incorrectly in the UI.\n"
     ]
    },
    {
     "data": {
      "application/vnd.jupyter.widget-view+json": {
       "model_id": "58d8618889144059bcc32e2fb700fddd",
       "version_major": 2,
       "version_minor": 0
      },
      "text/plain": [
       "Validation: |          | 0/? [00:00<?, ?it/s]"
      ]
     },
     "metadata": {},
     "output_type": "display_data"
    },
    {
     "name": "stderr",
     "output_type": "stream",
     "text": [
      "WARNING:root:Images sizes do not match. This will causes images to be display incorrectly in the UI.\n",
      "WARNING:root:Images sizes do not match. This will causes images to be display incorrectly in the UI.\n",
      "WARNING:root:Images sizes do not match. This will causes images to be display incorrectly in the UI.\n",
      "WARNING:root:Images sizes do not match. This will causes images to be display incorrectly in the UI.\n",
      "WARNING:root:Images sizes do not match. This will causes images to be display incorrectly in the UI.\n",
      "WARNING:root:Images sizes do not match. This will causes images to be display incorrectly in the UI.\n",
      "WARNING:root:Images sizes do not match. This will causes images to be display incorrectly in the UI.\n",
      "WARNING:root:Images sizes do not match. This will causes images to be display incorrectly in the UI.\n",
      "WARNING:root:Images sizes do not match. This will causes images to be display incorrectly in the UI.\n",
      "WARNING:root:Images sizes do not match. This will causes images to be display incorrectly in the UI.\n",
      "WARNING:root:Images sizes do not match. This will causes images to be display incorrectly in the UI.\n",
      "WARNING:root:Images sizes do not match. This will causes images to be display incorrectly in the UI.\n",
      "WARNING:root:Images sizes do not match. This will causes images to be display incorrectly in the UI.\n",
      "WARNING:root:Images sizes do not match. This will causes images to be display incorrectly in the UI.\n",
      "WARNING:root:Images sizes do not match. This will causes images to be display incorrectly in the UI.\n",
      "WARNING:root:Images sizes do not match. This will causes images to be display incorrectly in the UI.\n",
      "WARNING:root:Images sizes do not match. This will causes images to be display incorrectly in the UI.\n",
      "WARNING:root:Images sizes do not match. This will causes images to be display incorrectly in the UI.\n",
      "WARNING:root:Images sizes do not match. This will causes images to be display incorrectly in the UI.\n",
      "WARNING:root:Images sizes do not match. This will causes images to be display incorrectly in the UI.\n",
      "WARNING:root:Images sizes do not match. This will causes images to be display incorrectly in the UI.\n"
     ]
    },
    {
     "data": {
      "application/vnd.jupyter.widget-view+json": {
       "model_id": "acb7ec857f49474cac172a56a9f9d855",
       "version_major": 2,
       "version_minor": 0
      },
      "text/plain": [
       "Validation: |          | 0/? [00:00<?, ?it/s]"
      ]
     },
     "metadata": {},
     "output_type": "display_data"
    },
    {
     "name": "stderr",
     "output_type": "stream",
     "text": [
      "WARNING:root:Images sizes do not match. This will causes images to be display incorrectly in the UI.\n",
      "WARNING:root:Images sizes do not match. This will causes images to be display incorrectly in the UI.\n",
      "WARNING:root:Images sizes do not match. This will causes images to be display incorrectly in the UI.\n",
      "WARNING:root:Images sizes do not match. This will causes images to be display incorrectly in the UI.\n",
      "WARNING:root:Images sizes do not match. This will causes images to be display incorrectly in the UI.\n",
      "WARNING:root:Images sizes do not match. This will causes images to be display incorrectly in the UI.\n",
      "WARNING:root:Images sizes do not match. This will causes images to be display incorrectly in the UI.\n",
      "WARNING:root:Images sizes do not match. This will causes images to be display incorrectly in the UI.\n",
      "WARNING:root:Images sizes do not match. This will causes images to be display incorrectly in the UI.\n",
      "WARNING:root:Images sizes do not match. This will causes images to be display incorrectly in the UI.\n",
      "WARNING:root:Images sizes do not match. This will causes images to be display incorrectly in the UI.\n",
      "WARNING:root:Images sizes do not match. This will causes images to be display incorrectly in the UI.\n",
      "WARNING:root:Images sizes do not match. This will causes images to be display incorrectly in the UI.\n",
      "WARNING:root:Images sizes do not match. This will causes images to be display incorrectly in the UI.\n",
      "WARNING:root:Images sizes do not match. This will causes images to be display incorrectly in the UI.\n",
      "WARNING:root:Images sizes do not match. This will causes images to be display incorrectly in the UI.\n",
      "WARNING:root:Images sizes do not match. This will causes images to be display incorrectly in the UI.\n",
      "WARNING:root:Images sizes do not match. This will causes images to be display incorrectly in the UI.\n",
      "WARNING:root:Images sizes do not match. This will causes images to be display incorrectly in the UI.\n",
      "WARNING:root:Images sizes do not match. This will causes images to be display incorrectly in the UI.\n",
      "WARNING:root:Images sizes do not match. This will causes images to be display incorrectly in the UI.\n"
     ]
    },
    {
     "data": {
      "application/vnd.jupyter.widget-view+json": {
       "model_id": "65dec5a94d0d4be78c761af287edc084",
       "version_major": 2,
       "version_minor": 0
      },
      "text/plain": [
       "Validation: |          | 0/? [00:00<?, ?it/s]"
      ]
     },
     "metadata": {},
     "output_type": "display_data"
    },
    {
     "name": "stderr",
     "output_type": "stream",
     "text": [
      "WARNING:root:Images sizes do not match. This will causes images to be display incorrectly in the UI.\n",
      "WARNING:root:Images sizes do not match. This will causes images to be display incorrectly in the UI.\n",
      "WARNING:root:Images sizes do not match. This will causes images to be display incorrectly in the UI.\n",
      "WARNING:root:Images sizes do not match. This will causes images to be display incorrectly in the UI.\n",
      "WARNING:root:Images sizes do not match. This will causes images to be display incorrectly in the UI.\n",
      "WARNING:root:Images sizes do not match. This will causes images to be display incorrectly in the UI.\n",
      "WARNING:root:Images sizes do not match. This will causes images to be display incorrectly in the UI.\n",
      "WARNING:root:Images sizes do not match. This will causes images to be display incorrectly in the UI.\n",
      "WARNING:root:Images sizes do not match. This will causes images to be display incorrectly in the UI.\n",
      "WARNING:root:Images sizes do not match. This will causes images to be display incorrectly in the UI.\n",
      "WARNING:root:Images sizes do not match. This will causes images to be display incorrectly in the UI.\n",
      "WARNING:root:Images sizes do not match. This will causes images to be display incorrectly in the UI.\n",
      "WARNING:root:Images sizes do not match. This will causes images to be display incorrectly in the UI.\n",
      "WARNING:root:Images sizes do not match. This will causes images to be display incorrectly in the UI.\n",
      "WARNING:root:Images sizes do not match. This will causes images to be display incorrectly in the UI.\n",
      "WARNING:root:Images sizes do not match. This will causes images to be display incorrectly in the UI.\n",
      "WARNING:root:Images sizes do not match. This will causes images to be display incorrectly in the UI.\n",
      "WARNING:root:Images sizes do not match. This will causes images to be display incorrectly in the UI.\n",
      "WARNING:root:Images sizes do not match. This will causes images to be display incorrectly in the UI.\n",
      "WARNING:root:Images sizes do not match. This will causes images to be display incorrectly in the UI.\n",
      "WARNING:root:Images sizes do not match. This will causes images to be display incorrectly in the UI.\n"
     ]
    },
    {
     "data": {
      "application/vnd.jupyter.widget-view+json": {
       "model_id": "ed25d20a14e44fcfa6fa879ba06a585f",
       "version_major": 2,
       "version_minor": 0
      },
      "text/plain": [
       "Validation: |          | 0/? [00:00<?, ?it/s]"
      ]
     },
     "metadata": {},
     "output_type": "display_data"
    },
    {
     "name": "stderr",
     "output_type": "stream",
     "text": [
      "WARNING:root:Images sizes do not match. This will causes images to be display incorrectly in the UI.\n",
      "WARNING:root:Images sizes do not match. This will causes images to be display incorrectly in the UI.\n",
      "WARNING:root:Images sizes do not match. This will causes images to be display incorrectly in the UI.\n",
      "WARNING:root:Images sizes do not match. This will causes images to be display incorrectly in the UI.\n",
      "WARNING:root:Images sizes do not match. This will causes images to be display incorrectly in the UI.\n",
      "WARNING:root:Images sizes do not match. This will causes images to be display incorrectly in the UI.\n",
      "WARNING:root:Images sizes do not match. This will causes images to be display incorrectly in the UI.\n",
      "WARNING:root:Images sizes do not match. This will causes images to be display incorrectly in the UI.\n",
      "WARNING:root:Images sizes do not match. This will causes images to be display incorrectly in the UI.\n",
      "WARNING:root:Images sizes do not match. This will causes images to be display incorrectly in the UI.\n",
      "WARNING:root:Images sizes do not match. This will causes images to be display incorrectly in the UI.\n",
      "WARNING:root:Images sizes do not match. This will causes images to be display incorrectly in the UI.\n",
      "WARNING:root:Images sizes do not match. This will causes images to be display incorrectly in the UI.\n",
      "WARNING:root:Images sizes do not match. This will causes images to be display incorrectly in the UI.\n",
      "WARNING:root:Images sizes do not match. This will causes images to be display incorrectly in the UI.\n",
      "WARNING:root:Images sizes do not match. This will causes images to be display incorrectly in the UI.\n",
      "WARNING:root:Images sizes do not match. This will causes images to be display incorrectly in the UI.\n",
      "WARNING:root:Images sizes do not match. This will causes images to be display incorrectly in the UI.\n",
      "WARNING:root:Images sizes do not match. This will causes images to be display incorrectly in the UI.\n",
      "WARNING:root:Images sizes do not match. This will causes images to be display incorrectly in the UI.\n",
      "WARNING:root:Images sizes do not match. This will causes images to be display incorrectly in the UI.\n"
     ]
    },
    {
     "data": {
      "application/vnd.jupyter.widget-view+json": {
       "model_id": "93a59e2fce384466ad5a03b9c677173f",
       "version_major": 2,
       "version_minor": 0
      },
      "text/plain": [
       "Validation: |          | 0/? [00:00<?, ?it/s]"
      ]
     },
     "metadata": {},
     "output_type": "display_data"
    },
    {
     "name": "stderr",
     "output_type": "stream",
     "text": [
      "WARNING:root:Images sizes do not match. This will causes images to be display incorrectly in the UI.\n",
      "WARNING:root:Images sizes do not match. This will causes images to be display incorrectly in the UI.\n",
      "WARNING:root:Images sizes do not match. This will causes images to be display incorrectly in the UI.\n",
      "WARNING:root:Images sizes do not match. This will causes images to be display incorrectly in the UI.\n",
      "WARNING:root:Images sizes do not match. This will causes images to be display incorrectly in the UI.\n",
      "WARNING:root:Images sizes do not match. This will causes images to be display incorrectly in the UI.\n",
      "WARNING:root:Images sizes do not match. This will causes images to be display incorrectly in the UI.\n",
      "WARNING:root:Images sizes do not match. This will causes images to be display incorrectly in the UI.\n",
      "WARNING:root:Images sizes do not match. This will causes images to be display incorrectly in the UI.\n",
      "WARNING:root:Images sizes do not match. This will causes images to be display incorrectly in the UI.\n",
      "WARNING:root:Images sizes do not match. This will causes images to be display incorrectly in the UI.\n",
      "WARNING:root:Images sizes do not match. This will causes images to be display incorrectly in the UI.\n",
      "WARNING:root:Images sizes do not match. This will causes images to be display incorrectly in the UI.\n",
      "WARNING:root:Images sizes do not match. This will causes images to be display incorrectly in the UI.\n",
      "WARNING:root:Images sizes do not match. This will causes images to be display incorrectly in the UI.\n",
      "WARNING:root:Images sizes do not match. This will causes images to be display incorrectly in the UI.\n",
      "WARNING:root:Images sizes do not match. This will causes images to be display incorrectly in the UI.\n",
      "WARNING:root:Images sizes do not match. This will causes images to be display incorrectly in the UI.\n"
     ]
    }
   ],
   "source": [
    "from pytorch_lightning.loggers import WandbLogger\n",
    "wandb_logger = WandbLogger(save_dir='./runs/lightning_logs/obj_centric_chest_seg/', project='obj_centric_chest_seg',\n",
    "                           name='multi_proj_test')\n",
    "output_dir = Path(f\"obj_centric_chest_seg/run_{wandb_logger.experiment.id}\")  # type: ignore\n",
    "print(\"Saving to\" + str(output_dir.absolute()))\n",
    "\n",
    "trainer = Trainer(\n",
    "    max_epochs=2500,\n",
    "    precision='16-mixed',\n",
    "    accelerator='auto',\n",
    "    devices=[1],\n",
    "    #strategy='ddp_notebook',\n",
    "    # log_every_n_steps=250,\n",
    "    #val_check_interval=0.25,\n",
    "    check_val_every_n_epoch=50,\n",
    "    # #save_top_k=1,\n",
    "    logger=wandb_logger,\n",
    "    # callbacks=[ModelCheckpoint(monitor=\"val_loss\", mode='min'), TQDMProgressBar(refresh_rate=100)],\n",
    ")\n",
    "torch.set_float32_matmul_precision('medium')\n",
    "\n",
    "trainer.fit(model=oss, datamodule=data)\n",
    "\n",
    "# trainer.validate(model=oss, datamodule=data, ckpt_path=trainer.checkpoint_callback.best_model_path)\n",
    "\n",
    "# trainer.test(model=oss, datamodule=data, ckpt_path=trainer.checkpoint_callback.best_model_path)"
   ]
  },
  {
   "cell_type": "code",
   "execution_count": null,
   "metadata": {},
   "outputs": [],
   "source": [
    "image_num = 0\n",
    "batch = next(iter(data.test_dataloader()))\n",
    "# vertical flip batch\n",
    "# batch['image'] = torch.flip(batch['image'], [2])\n",
    "# batch['labelmap'] = torch.flip(batch['labelmap'], [2])\n",
    "\n",
    "batch['image'] = batch['image'][:2]\n",
    "batch['labelmap'] = batch['labelmap'][:2]\n",
    "# move to gpu\n",
    "# batch = {k: v.to(cuda_device) for k, v in batch.items()}\n",
    "# oss.to(cuda_device)\n",
    "\n",
    "with torch.no_grad():\n",
    "    loss, dsc, probs, preds, _ = oss.process_batch(batch, 1)\n",
    "image = batch['image'][image_num].squeeze()\n",
    "labelmap = batch['labelmap'][image_num].squeeze()\n",
    "probmap = torch.max(probs.cpu(), dim=1, keepdim=True)[0].squeeze().detach().numpy()\n",
    "predmap = preds[image_num].squeeze()\n",
    "\n",
    "f, ax = plt.subplots(1,4, figsize=(15, 15))\n",
    "\n",
    "ax[0].imshow(image, cmap=matplotlib.cm.gray)\n",
    "ax[0].axis('off')\n",
    "ax[0].set_title('image')\n",
    "\n",
    "ax[1].imshow(labelmap, cmap=matplotlib.cm.gray)\n",
    "ax[1].axis('off')\n",
    "ax[1].set_title('labelmap')\n",
    "\n",
    "ax[2].imshow(predmap, cmap=matplotlib.cm.gray)\n",
    "ax[2].axis('off')\n",
    "ax[2].set_title('prediction')\n",
    "\n",
    "ax[3].imshow(probmap[image_num, ...], cmap='plasma')\n",
    "ax[3].axis('off')\n",
    "ax[3].set_title('probability map')\n",
    "\n",
    "image_num += 1\n",
    "image = batch['image'][image_num].squeeze()\n",
    "labelmap = batch['labelmap'][image_num].squeeze()\n",
    "probmap = torch.max(probs.cpu(), dim=1, keepdim=True)[0].squeeze().detach().numpy()\n",
    "predmap = preds[image_num].squeeze()\n",
    "\n",
    "f, ax = plt.subplots(1,4, figsize=(15, 15))\n",
    "\n",
    "ax[0].imshow(image, cmap=matplotlib.cm.gray)\n",
    "ax[0].axis('off')\n",
    "ax[0].set_title('image')\n",
    "\n",
    "ax[1].imshow(labelmap, cmap=matplotlib.cm.gray)\n",
    "ax[1].axis('off')\n",
    "ax[1].set_title('labelmap')\n",
    "\n",
    "ax[2].imshow(predmap, cmap=matplotlib.cm.gray)\n",
    "ax[2].axis('off')\n",
    "ax[2].set_title('prediction')\n",
    "\n",
    "ax[3].imshow(probmap[image_num, ...], cmap='plasma')\n",
    "ax[3].axis('off')\n",
    "ax[3].set_title('probability map')"
   ]
  },
  {
   "cell_type": "code",
   "execution_count": null,
   "metadata": {},
   "outputs": [],
   "source": [
    "# plot attention matrix\n",
    "image_num = 0\n",
    "attn = oss.attn[image_num].cpu().detach().numpy()   \n",
    "# slot 0\n",
    "# slot_0_attn = attn[0, :]\n",
    "# slot_0_attn = slot_0_attn.reshape(14, 14)\n",
    "\n",
    "f, ax = plt.subplots(1, attn.shape[0], figsize=(15, 15))\n",
    "\n",
    "for slot in range(attn.shape[0]):\n",
    "    slot_attn = attn[slot, :]\n",
    "    slot_attn = slot_attn.reshape(14, 14)\n",
    "    ax[slot].imshow(slot_attn, cmap=matplotlib.cm.gray)\n",
    "    ax[slot].axis('off')\n",
    "    ax[slot].set_title(f'slot {slot}')"
   ]
  },
  {
   "cell_type": "code",
   "execution_count": null,
   "metadata": {},
   "outputs": [],
   "source": [
    "# calculate entropy of predictions\n",
    "image_num = 0\n",
    "trials = 5\n",
    "batch = next(iter(data.test_dataloader()))\n",
    "\n",
    "list_entropy = []\n",
    "#all_preds = torch.empty((batch['image'].shape[0], 224, 224), dtype=torch.long)\n",
    "oss.to(cuda_device)\n",
    "batch = {k: v.to(cuda_device) for k, v in batch.items()}\n",
    "for _ in range(trials):\n",
    "    with torch.no_grad():\n",
    "        loss, dsc, probs, preds, _ = oss.process_batch(batch)\n",
    "        list_entropy.append(preds)\n",
    "\n",
    "all_preds = torch.stack(list_entropy, dim=1)\n",
    "oss.to('cpu')\n",
    "del batch\n",
    "print(all_preds.shape)"
   ]
  },
  {
   "cell_type": "code",
   "execution_count": null,
   "metadata": {},
   "outputs": [],
   "source": [
    "def calculate_class_entropy(predictions):\n",
    "    \"\"\"\n",
    "    Calculate entropy of class predictions for each pixel.\n",
    "    \n",
    "    Args:\n",
    "    predictions: Tensor of shape (N, H, W) where N is the number of predictions,\n",
    "                 H and W are height and width. Values are class indices.\n",
    "    \n",
    "    Returns:\n",
    "    entropy: Tensor of shape (H, W) containing entropy for each pixel\n",
    "    \"\"\"\n",
    "    N, H, W = predictions.shape\n",
    "    num_classes = predictions.max().item() + 1  # Assuming class indices start from 0\n",
    "    \n",
    "    # Create one-hot encoding\n",
    "    one_hot = torch.zeros(N, num_classes, H, W, device=predictions.device)\n",
    "    one_hot.scatter_(1, predictions.unsqueeze(1), 1)\n",
    "    \n",
    "    # Sum over the N dimension to get class counts\n",
    "    class_counts = one_hot.sum(dim=0)  # Shape: (num_classes, H, W)\n",
    "    \n",
    "    # Calculate probabilities\n",
    "    probabilities = class_counts / N\n",
    "    \n",
    "    # Add a small epsilon to avoid log(0)\n",
    "    epsilon = 1e-7\n",
    "    probabilities = torch.clamp(probabilities, epsilon, 1 - epsilon)\n",
    "    \n",
    "    # Calculate entropy\n",
    "    entropy = -torch.sum(probabilities * torch.log2(probabilities), dim=0)\n",
    "    \n",
    "    return entropy\n",
    "\n",
    "# Example usage\n",
    "# Assuming 'stacked_predictions' is your tensor of shape (N, H, W)\n",
    "image_num = 7\n",
    "pixel_entropy = calculate_class_entropy(all_preds[image_num, ...]).cpu()\n",
    "\n",
    "f, ax = plt.subplots(1, 1, figsize=(5, 5))\n",
    "\n",
    "ax.imshow(pixel_entropy, cmap='plasma')\n",
    "ax.axis('off')\n",
    "ax.set_title('image')"
   ]
  },
  {
   "cell_type": "code",
   "execution_count": null,
   "metadata": {},
   "outputs": [],
   "source": []
  }
 ],
 "metadata": {
  "kernelspec": {
   "display_name": "uncertainty_env",
   "language": "python",
   "name": "python3"
  },
  "language_info": {
   "codemirror_mode": {
    "name": "ipython",
    "version": 3
   },
   "file_extension": ".py",
   "mimetype": "text/x-python",
   "name": "python",
   "nbconvert_exporter": "python",
   "pygments_lexer": "ipython3",
   "version": "3.10.12"
  }
 },
 "nbformat": 4,
 "nbformat_minor": 2
}
