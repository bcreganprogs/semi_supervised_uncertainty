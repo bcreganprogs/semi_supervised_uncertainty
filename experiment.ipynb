{
 "cells": [
  {
   "cell_type": "code",
   "execution_count": null,
   "metadata": {},
   "outputs": [],
   "source": [
    "import numpy as np\n",
    "import torch\n",
    "\n",
    "from data import JSRTDataModule\n",
    "from torch.utils.data import DataLoader\n",
    "\n",
    "from models.mae import ViTAE\n",
    "from slot_attention import SlotAttention\n",
    "\n",
    "import matplotlib.pyplot as plt\n",
    "import matplotlib"
   ]
  }
 ],
 "metadata": {
  "language_info": {
   "name": "python"
  }
 },
 "nbformat": 4,
 "nbformat_minor": 2
}
